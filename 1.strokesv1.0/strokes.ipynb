{
 "cells": [
  {
   "cell_type": "code",
   "execution_count": 1,
   "metadata": {},
   "outputs": [
    {
     "name": "stderr",
     "output_type": "stream",
     "text": [
      "Using TensorFlow backend.\n"
     ]
    }
   ],
   "source": [
    "from keras.layers import Input, Reshape, Flatten\n",
    "from keras.models import Model, load_model\n",
    "from keras.layers import Input, Conv2D, Activation, Dense\n",
    "from keras.utils.vis_utils import plot_model\n",
    "from keras.optimizers import Adam\n",
    "import numpy as np\n",
    "import keras\n",
    "import tensorflow as tf\n",
    "from keras.models import Sequential\n",
    "\n",
    "import os\n",
    "# Esto es solo necesario en el caso de tener varías GPUs en el equipo (comentar en Colab)\n",
    "os.environ[\"CUDA_VISIBLE_DEVICES\"]=\"1\" \n",
    "\n",
    "import matplotlib\n",
    "%matplotlib inline\n",
    "from matplotlib import pyplot as plt\n",
    "\n",
    "import random\n",
    "import matplotlib as mpl"
   ]
  },
  {
   "cell_type": "markdown",
   "metadata": {},
   "source": [
    "#### En este Notebook se implementará la red neuronal capaz de generar pinceladas a partir de unos datos generados de forma aleatoria y que definen cada uno de los strokes."
   ]
  },
  {
   "cell_type": "markdown",
   "metadata": {},
   "source": [
    "## Definición de la capa subpixel"
   ]
  },
  {
   "cell_type": "markdown",
   "metadata": {},
   "source": [
    "#### En la siguiente celda se define la capa subpixel necesaria para definir la red neuronal. Las capas subpixel permiten mejorar la resolución podemos obtener más info de estas capas aquí: https://arxiv.org/abs/1609.05158 . En pytorch existe una definición directa de estas capas, sin embargo, en keras no, por ello, es necesario implementarlas:"
   ]
  },
  {
   "cell_type": "code",
   "execution_count": 2,
   "metadata": {},
   "outputs": [],
   "source": [
    "from keras.engine import Layer\n",
    "import tensorflow as tf\n",
    "\n",
    "from keras.utils.generic_utils import get_custom_objects\n",
    "\n",
    "class SubpixelConv2D(Layer):\n",
    "    \"\"\" Subpixel Conv2D Layer\n",
    "    upsampling a layer from (h, w, c) to (h*r, w*r, c/(r*r)),\n",
    "    where r is the scaling factor, default to 4\n",
    "    # Arguments\n",
    "    upsampling_factor: the scaling factor\n",
    "    # Input shape\n",
    "        Arbitrary. Use the keyword argument `input_shape`\n",
    "        (tuple of integers, does not include the samples axis)\n",
    "        when using this layer as the first layer in a model.\n",
    "    # Output shape\n",
    "        the second and the third dimension increased by a factor of\n",
    "        `upsampling_factor`; the last layer decreased by a factor of\n",
    "        `upsampling_factor^2`.\n",
    "    # References\n",
    "        Real-Time Single Image and Video Super-Resolution Using an Efficient\n",
    "        Sub-Pixel Convolutional Neural Network Shi et Al. https://arxiv.org/abs/1609.05158\n",
    "    \"\"\"\n",
    "\n",
    "    def __init__(self, upsampling_factor=4, **kwargs):\n",
    "        super(SubpixelConv2D, self).__init__(**kwargs)\n",
    "        self.upsampling_factor = upsampling_factor\n",
    "\n",
    "    def build(self, input_shape):\n",
    "        last_dim = input_shape[-1]\n",
    "        factor = self.upsampling_factor * self.upsampling_factor\n",
    "        if last_dim % (factor) != 0:\n",
    "            raise ValueError('Channel ' + str(last_dim) + ' should be of '\n",
    "                             'integer times of upsampling_factor^2: ' +\n",
    "                             str(factor) + '.')\n",
    "\n",
    "    def call(self, inputs, **kwargs):\n",
    "        return tf.nn.depth_to_space( inputs, self.upsampling_factor )\n",
    "        #return Lambda(lambda x:tf.nn.depth_to_space( inputs, self.upsampling_factor ))\n",
    "\n",
    "    def get_config(self):\n",
    "        config = { 'upsampling_factor': self.upsampling_factor, }\n",
    "        base_config = super(SubpixelConv2D, self).get_config()\n",
    "        return dict(list(base_config.items()) + list(config.items()))\n",
    "\n",
    "    def compute_output_shape(self, input_shape):\n",
    "        factor = self.upsampling_factor * self.upsampling_factor\n",
    "        input_shape_1 = None\n",
    "        if input_shape[1] is not None:\n",
    "            input_shape_1 = input_shape[1] * self.upsampling_factor\n",
    "        input_shape_2 = None\n",
    "        if input_shape[2] is not None:\n",
    "            input_shape_2 = input_shape[2] * self.upsampling_factor\n",
    "        dims = [ input_shape[0],\n",
    "                 input_shape_1,\n",
    "                 input_shape_2,\n",
    "                 int(input_shape[3]/factor)\n",
    "               ]\n",
    "        return tuple( dims )\n",
    "\n",
    "get_custom_objects().update({'SubpixelConv2D': SubpixelConv2D})\n",
    "\n"
   ]
  },
  {
   "cell_type": "markdown",
   "metadata": {},
   "source": [
    "## Definición de la red"
   ]
  },
  {
   "cell_type": "markdown",
   "metadata": {},
   "source": [
    "#### A continuación se define el dataGenerator que permite obtener los datos que generan las pinceladas de forma aleatoria y la definición de la red neuronal."
   ]
  },
  {
   "cell_type": "code",
   "execution_count": 3,
   "metadata": {},
   "outputs": [],
   "source": [
    "def generator():\n",
    "    \n",
    "    while True:\n",
    "        \n",
    "        train_batch = []\n",
    "        ground_truth = []\n",
    "        #CAMBIO EL BATCH SIZE POR EL ERROR: OOM when allocating tensor with shape\n",
    "        #OM when allocating tensor with shape[12992,8,64,64] and type float on /job:localhost/replica:0/task:0/device:GPU:0 by allocator GPU_0_bfc\n",
    "        for i in range(64):\n",
    "            f = np.random.uniform(0, 1, 11)\n",
    "            train_batch.append(f)\n",
    "            ground_truth.append(draw(f)/255)\n",
    "        \n",
    "        batch_x = np.array( train_batch, dtype='float32' )\n",
    "        batch_y = np.array( ground_truth, dtype='float32' )\n",
    "\n",
    "        yield ( batch_x, batch_y )"
   ]
  },
  {
   "cell_type": "code",
   "execution_count": 4,
   "metadata": {},
   "outputs": [
    {
     "name": "stdout",
     "output_type": "stream",
     "text": [
      "Model: \"model_1\"\n",
      "_________________________________________________________________\n",
      "Layer (type)                 Output Shape              Param #   \n",
      "=================================================================\n",
      "input_1 (InputLayer)         (None, 11)                0         \n",
      "_________________________________________________________________\n",
      "fc1 (Dense)                  (None, 512)               6144      \n",
      "_________________________________________________________________\n",
      "fc2 (Dense)                  (None, 1024)              525312    \n",
      "_________________________________________________________________\n",
      "fc3 (Dense)                  (None, 2048)              2099200   \n",
      "_________________________________________________________________\n",
      "fc4 (Dense)                  (None, 4096)              8392704   \n",
      "_________________________________________________________________\n",
      "reshape_1 (Reshape)          (None, 16, 16, 16)        0         \n",
      "_________________________________________________________________\n",
      "conv2d_1 (Conv2D)            (None, 16, 16, 32)        4640      \n",
      "_________________________________________________________________\n",
      "conv2d_2 (Conv2D)            (None, 16, 16, 32)        9248      \n",
      "_________________________________________________________________\n",
      "subpixel_conv2d_1 (SubpixelC (None, 32, 32, 8)         0         \n",
      "_________________________________________________________________\n",
      "conv2d_3 (Conv2D)            (None, 32, 32, 16)        1168      \n",
      "_________________________________________________________________\n",
      "conv2d_4 (Conv2D)            (None, 32, 32, 16)        2320      \n",
      "_________________________________________________________________\n",
      "subpixel_conv2d_2 (SubpixelC (None, 64, 64, 4)         0         \n",
      "_________________________________________________________________\n",
      "conv2d_5 (Conv2D)            (None, 64, 64, 8)         296       \n",
      "_________________________________________________________________\n",
      "conv2d_6 (Conv2D)            (None, 64, 64, 12)        876       \n",
      "_________________________________________________________________\n",
      "subpixel_conv2d_3 (SubpixelC (None, 128, 128, 3)       0         \n",
      "_________________________________________________________________\n",
      "activation_1 (Activation)    (None, 128, 128, 3)       0         \n",
      "=================================================================\n",
      "Total params: 11,041,908\n",
      "Trainable params: 11,041,908\n",
      "Non-trainable params: 0\n",
      "_________________________________________________________________\n",
      "********************************************************************************\n"
     ]
    }
   ],
   "source": [
    "ip = Input(shape=(11,))\n",
    "x = Dense(512, activation='relu', name='fc1')(ip)\n",
    "x = Dense(1024, activation='relu', name='fc2')(x)\n",
    "x = Dense(2048, activation='relu', name='fc3')(x)\n",
    "x = Dense(4096, activation='relu', name='fc4')(x)\n",
    "x = Reshape((-1,16,16))(x)\n",
    "x = Conv2D(32, (3,3), activation='relu',strides=(1, 1), padding = \"same\")(x)\n",
    "x = SubpixelConv2D(upsampling_factor=2)(Conv2D(32, (3,3), strides=(1, 1), padding = \"same\")(x))\n",
    "x = Conv2D(16, (3,3), activation='relu', strides=(1, 1), padding = \"same\")(x)\n",
    "x = SubpixelConv2D(upsampling_factor=2)(Conv2D(16, (3,3), strides=(1, 1), padding = \"same\")(x))\n",
    "x = Conv2D(8, (3,3), activation='relu', strides=(1, 1), padding = \"same\")(x)\n",
    "x = Conv2D(12, (3,3), strides=(1, 1), padding = \"same\")(x)\n",
    "x = SubpixelConv2D(upsampling_factor=2)(x)\n",
    "\n",
    "x = Activation('sigmoid')(x)\n",
    "\n",
    "\n",
    "model = Model(ip, x)\n",
    "\n",
    "model.compile(loss = \"mean_squared_error\", optimizer=Adam(), metrics=['mae'])\n",
    "model.summary()\n",
    "#model.save('model.h5')\n",
    "print(\"*\"*80)\n",
    "\n"
   ]
  },
  {
   "cell_type": "markdown",
   "metadata": {},
   "source": [
    "## Generamos las pinceladas"
   ]
  },
  {
   "cell_type": "markdown",
   "metadata": {},
   "source": [
    "#### Definimos las funciones que nos permiten generar las pinceldas según los datos generados anteriormente de forma aleatoria. Estos resultados sería el ground_truth."
   ]
  },
  {
   "cell_type": "markdown",
   "metadata": {},
   "source": []
  },
  {
   "cell_type": "code",
   "execution_count": 5,
   "metadata": {},
   "outputs": [],
   "source": [
    "import cv2\n",
    "import numpy as np\n",
    "\n",
    "def normal(x, width):\n",
    "    return (int)(x * (width - 1) + 0.5)\n",
    "\n",
    "def random_color():\n",
    "    r = random.randint(0,255)\n",
    "    g = random.randint(0,255)\n",
    "    b = random.randint(0,255)\n",
    "    rgb = [r,g,b]\n",
    "    return rgb\n",
    "\n",
    "def draw(f, width=128):\n",
    "    x0, y0, x1, y1, x2, y2, z0, z2, r, g, b = f\n",
    "    \n",
    "    #color = random_color()\n",
    "    r, g, b = r*255, g*255, b*255\n",
    "\n",
    "    x1 = x0 + (x2 - x0) * x1\n",
    "    y1 = y0 + (y2 - y0) * y1\n",
    "    x0 = normal(x0, width * 2)\n",
    "    x1 = normal(x1, width * 2)\n",
    "    x2 = normal(x2, width * 2)\n",
    "    y0 = normal(y0, width * 2)\n",
    "    y1 = normal(y1, width * 2)\n",
    "    y2 = normal(y2, width * 2)\n",
    "    z0 = (int)(1 + z0 * width // 2)\n",
    "    z2 = (int)(1 + z2 * width // 2)\n",
    "    canvas = 255 * np.ones([width * 2, width * 2, 3], dtype=np.uint8)\n",
    "    tmp = 1. / 100\n",
    "    for i in range(100):\n",
    "        t = i * tmp\n",
    "        x = (int)((1-t) * (1-t) * x0 + 2 * t * (1-t) * x1 + t * t * x2)\n",
    "        y = (int)((1-t) * (1-t) * y0 + 2 * t * (1-t) * y1 + t * t * y2)\n",
    "        z = (int)((1-t) * z0 + t * z2)\n",
    "        #w = (1-t) * w0 + t * w2\n",
    "        cv2.circle(canvas, (y, x), z , [r,g,b] , -1)\n",
    "    \n",
    "   # plt.imshow(canvas)\n",
    "        \n",
    "    return  cv2.resize(canvas, dsize=(width, width))\n",
    "    #plt.imshow(canvas)\n",
    "\n"
   ]
  },
  {
   "cell_type": "markdown",
   "metadata": {},
   "source": [
    "## Entrenamiento del modelo"
   ]
  },
  {
   "cell_type": "markdown",
   "metadata": {},
   "source": [
    "#### El siguiente paso sería comenzar a entrenar nuestra red para ver si es capaz de generar pinceladas. "
   ]
  },
  {
   "cell_type": "code",
   "execution_count": 6,
   "metadata": {
    "scrolled": true
   },
   "outputs": [],
   "source": [
    "#train_gen = generator()"
   ]
  },
  {
   "cell_type": "code",
   "execution_count": 7,
   "metadata": {
    "scrolled": true
   },
   "outputs": [
    {
     "name": "stdout",
     "output_type": "stream",
     "text": [
      "Epoch 1/20\n",
      "2000/2000 [==============================] - 74s 37ms/step - loss: 0.0614 - mae: 0.0945\n",
      "Epoch 2/20\n",
      "2000/2000 [==============================] - 74s 37ms/step - loss: 0.0542 - mae: 0.0904\n",
      "Epoch 3/20\n",
      "2000/2000 [==============================] - 73s 37ms/step - loss: 0.0152 - mae: 0.0486\n",
      "Epoch 4/20\n",
      "2000/2000 [==============================] - 74s 37ms/step - loss: 0.0099 - mae: 0.0353\n",
      "Epoch 5/20\n",
      "2000/2000 [==============================] - 73s 37ms/step - loss: 0.0052 - mae: 0.0233\n",
      "Epoch 6/20\n",
      "2000/2000 [==============================] - 74s 37ms/step - loss: 0.0037 - mae: 0.0176\n",
      "Epoch 7/20\n",
      "2000/2000 [==============================] - 73s 37ms/step - loss: 0.0030 - mae: 0.0139\n",
      "Epoch 8/20\n",
      "2000/2000 [==============================] - 73s 37ms/step - loss: 0.0027 - mae: 0.0126\n",
      "Epoch 9/20\n",
      "2000/2000 [==============================] - 73s 37ms/step - loss: 0.0025 - mae: 0.0119\n",
      "Epoch 10/20\n",
      "2000/2000 [==============================] - 73s 37ms/step - loss: 0.0023 - mae: 0.0112\n",
      "Epoch 11/20\n",
      "2000/2000 [==============================] - 73s 37ms/step - loss: 0.0022 - mae: 0.0107\n",
      "Epoch 12/20\n",
      "2000/2000 [==============================] - 73s 37ms/step - loss: 0.0022 - mae: 0.0104\n",
      "Epoch 13/20\n",
      "2000/2000 [==============================] - 73s 37ms/step - loss: 0.0021 - mae: 0.0100\n",
      "Epoch 14/20\n",
      "2000/2000 [==============================] - 73s 37ms/step - loss: 0.0020 - mae: 0.0098\n",
      "Epoch 15/20\n",
      "2000/2000 [==============================] - 73s 37ms/step - loss: 0.0019 - mae: 0.0095\n",
      "Epoch 16/20\n",
      "2000/2000 [==============================] - 73s 37ms/step - loss: 0.0019 - mae: 0.0094\n",
      "Epoch 17/20\n",
      "2000/2000 [==============================] - 73s 37ms/step - loss: 0.0018 - mae: 0.0091\n",
      "Epoch 18/20\n",
      "2000/2000 [==============================] - 73s 37ms/step - loss: 0.0018 - mae: 0.0090\n",
      "Epoch 19/20\n",
      "2000/2000 [==============================] - 73s 37ms/step - loss: 0.0018 - mae: 0.0088\n",
      "Epoch 20/20\n",
      "2000/2000 [==============================] - 73s 37ms/step - loss: 0.0017 - mae: 0.0087\n"
     ]
    }
   ],
   "source": [
    "history = model.fit_generator(generator(),epochs=20, steps_per_epoch=2000 , verbose=1)"
   ]
  },
  {
   "cell_type": "code",
   "execution_count": 8,
   "metadata": {},
   "outputs": [],
   "source": [
    "model.save_weights('my_model_weights_patricia.h5')"
   ]
  },
  {
   "cell_type": "code",
   "execution_count": 9,
   "metadata": {},
   "outputs": [],
   "source": [
    "f = np.random.uniform(0, 1, 11)\n",
    "img = draw(f, width=128)"
   ]
  },
  {
   "cell_type": "code",
   "execution_count": 10,
   "metadata": {},
   "outputs": [
    {
     "data": {
      "image/png": "[encoded data removed]",
      "text/plain": [
       "<Figure size 432x288 with 1 Axes>"
      ]
     },
     "metadata": {
      "needs_background": "light"
     },
     "output_type": "display_data"
    }
   ],
   "source": [
    "plt.imshow(img)\n",
    "plt.show()"
   ]
  },
  {
   "cell_type": "code",
   "execution_count": 11,
   "metadata": {},
   "outputs": [],
   "source": [
    "#nm = load_model( 'model_patricia.h5' )\n",
    "#print(\"model loaded successfully\")\n",
    "#model.load_weights('my_model_weights.h5')\n",
    "#print(\"weights loaded successfully\")"
   ]
  },
  {
   "cell_type": "code",
   "execution_count": 12,
   "metadata": {},
   "outputs": [],
   "source": [
    "def generator_predict():\n",
    "    \n",
    "    while True:\n",
    "        \n",
    "        train_batch = []\n",
    "        train_batch.append(f)\n",
    "\n",
    "        batch_x = np.array( train_batch, dtype='float32' )\n",
    "\n",
    "        yield batch_x\n",
    "\n",
    "y_pred_prob = model.predict_generator(generator_predict(), steps=1)"
   ]
  },
  {
   "cell_type": "code",
   "execution_count": 13,
   "metadata": {},
   "outputs": [
    {
     "data": {
      "image/png": "[encoded data removed]",
      "text/plain": [
       "<Figure size 432x288 with 1 Axes>"
      ]
     },
     "metadata": {
      "needs_background": "light"
     },
     "output_type": "display_data"
    }
   ],
   "source": [
    "plt.imshow(y_pred_prob[0])\n",
    "plt.show()"
   ]
  },
  {
   "cell_type": "code",
   "execution_count": 14,
   "metadata": {},
   "outputs": [
    {
     "data": {
      "text/plain": [
       "(1, 128, 128, 3)"
      ]
     },
     "execution_count": 14,
     "metadata": {},
     "output_type": "execute_result"
    }
   ],
   "source": [
    "y_pred_prob.shape"
   ]
  },
  {
   "cell_type": "code",
   "execution_count": 15,
   "metadata": {},
   "outputs": [
    {
     "data": {
      "text/plain": [
       "array([0.12199186, 0.22415005, 0.52791052, 0.26902345, 0.97890491,\n",
       "       0.26368531, 0.62381985, 0.64841082, 0.8795355 , 0.9444203 ,\n",
       "       0.52843825])"
      ]
     },
     "execution_count": 15,
     "metadata": {},
     "output_type": "execute_result"
    }
   ],
   "source": [
    "f"
   ]
  },
  {
   "cell_type": "code",
   "execution_count": 16,
   "metadata": {},
   "outputs": [
    {
     "data": {
      "text/plain": [
       "0.4794288"
      ]
     },
     "execution_count": 16,
     "metadata": {},
     "output_type": "execute_result"
    }
   ],
   "source": [
    "y_pred_prob[0].min()"
   ]
  },
  {
   "cell_type": "code",
   "execution_count": 17,
   "metadata": {},
   "outputs": [
    {
     "data": {
      "text/plain": [
       "array([[0.8128112 , 0.8879395 , 0.48874837],\n",
       "       [0.822027  , 0.88969845, 0.49846655],\n",
       "       [0.8240713 , 0.89215684, 0.4850119 ],\n",
       "       ...,\n",
       "       [0.9999999 , 1.        , 1.        ],\n",
       "       [1.        , 1.        , 0.9999999 ],\n",
       "       [1.        , 1.        , 1.        ]], dtype=float32)"
      ]
     },
     "execution_count": 17,
     "metadata": {},
     "output_type": "execute_result"
    }
   ],
   "source": [
    "np.unique(y_pred_prob[0].reshape((128*128, 3)), axis=0)"
   ]
  },
  {
   "cell_type": "code",
   "execution_count": 18,
   "metadata": {},
   "outputs": [
    {
     "data": {
      "text/plain": [
       "0.0004501289764614681"
      ]
     },
     "execution_count": 18,
     "metadata": {},
     "output_type": "execute_result"
    }
   ],
   "source": [
    "np.mean((y_pred_prob[0] - img / 255)**2)"
   ]
  },
  {
   "cell_type": "code",
   "execution_count": 19,
   "metadata": {},
   "outputs": [
    {
     "data": {
      "text/plain": [
       "array([[0.87843137, 0.94509804, 0.52941176],\n",
       "       [0.90980392, 0.96078431, 0.64705882],\n",
       "       [0.94117647, 0.97254902, 0.76470588],\n",
       "       [0.96862745, 0.98823529, 0.88235294],\n",
       "       [1.        , 1.        , 1.        ]])"
      ]
     },
     "execution_count": 19,
     "metadata": {},
     "output_type": "execute_result"
    }
   ],
   "source": [
    "np.unique(img.reshape((128*128, 3)), axis=0) / 255"
   ]
  },
  {
   "cell_type": "code",
   "execution_count": 20,
   "metadata": {},
   "outputs": [
    {
     "data": {
      "text/plain": [
       "[0.001713960082270205, 0.008487853221595287]"
      ]
     },
     "execution_count": 20,
     "metadata": {},
     "output_type": "execute_result"
    }
   ],
   "source": [
    "model.evaluate_generator(generator(), steps=100)"
   ]
  },
  {
   "cell_type": "markdown",
   "metadata": {},
   "source": [
    "## Métricas de evaluación."
   ]
  },
  {
   "cell_type": "markdown",
   "metadata": {},
   "source": [
    "#### Métricas de evaluación para estudiar el comportamiento del modelo durante el entrenamiento."
   ]
  },
  {
   "cell_type": "code",
   "execution_count": 31,
   "metadata": {},
   "outputs": [
    {
     "data": {
      "image/png": "[encoded data removed]",
      "text/plain": [
       "<Figure size 360x360 with 1 Axes>"
      ]
     },
     "metadata": {
      "needs_background": "light"
     },
     "output_type": "display_data"
    }
   ],
   "source": [
    "mpl.rcParams['figure.figsize'] = (5,5)\n",
    "plt.plot(history.history['loss'][start_plot:], label = 'loss')\n",
    "plt.title('model loss')\n",
    "plt.xlabel('epoch')\n",
    "plt.legend(['loss'], loc ='upper right')\n",
    "plt.show()"
   ]
  },
  {
   "cell_type": "code",
   "execution_count": 22,
   "metadata": {},
   "outputs": [],
   "source": [
    "all_mae_entrenamientos = []\n",
    "mae_entrenamiento = history.history['mae']\n",
    "all_mae_entrenamientos.append(mae_entrenamiento)"
   ]
  },
  {
   "cell_type": "code",
   "execution_count": 23,
   "metadata": {},
   "outputs": [],
   "source": [
    "average_mae_entrenamiento = [\n",
    "    np.mean([x[i] for x in all_mae_entrenamientos]) for i in range(20)]"
   ]
  },
  {
   "cell_type": "code",
   "execution_count": 24,
   "metadata": {},
   "outputs": [
    {
     "data": {
      "image/png": "[encoded data removed]",
      "text/plain": [
       "<Figure size 1080x360 with 1 Axes>"
      ]
     },
     "metadata": {
      "needs_background": "light"
     },
     "output_type": "display_data"
    }
   ],
   "source": [
    "plt.plot(range(1, len(average_mae_entrenamiento) + 1), average_mae_entrenamiento)\n",
    "plt.xlabel('Epochs')\n",
    "plt.ylabel('Validación MAE')\n",
    "plt.show()"
   ]
  },
  {
   "cell_type": "code",
   "execution_count": null,
   "metadata": {},
   "outputs": [],
   "source": []
  },
  {
   "cell_type": "code",
   "execution_count": null,
   "metadata": {},
   "outputs": [],
   "source": []
  },
  {
   "cell_type": "code",
   "execution_count": null,
   "metadata": {},
   "outputs": [],
   "source": []
  },
  {
   "cell_type": "code",
   "execution_count": null,
   "metadata": {},
   "outputs": [],
   "source": []
  }
 ],
 "metadata": {
  "kernelspec": {
   "display_name": "Python 3",
   "language": "python",
   "name": "python3"
  },
  "language_info": {
   "codemirror_mode": {
    "name": "ipython",
    "version": 3
   },
   "file_extension": ".py",
   "mimetype": "text/x-python",
   "name": "python",
   "nbconvert_exporter": "python",
   "pygments_lexer": "ipython3",
   "version": "3.7.4"
  }
 },
 "nbformat": 4,
 "nbformat_minor": 4
}
