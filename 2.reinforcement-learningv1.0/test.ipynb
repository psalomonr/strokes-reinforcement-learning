{
 "cells": [
  {
   "cell_type": "code",
   "execution_count": 1,
   "metadata": {},
   "outputs": [],
   "source": [
    "import os\n",
    "# Esto es solo necesario en el caso de tener varías GPUs en el equipo (comentar en Colab)\n",
    "os.environ[\"CUDA_VISIBLE_DEVICES\"]=\"0\" "
   ]
  },
  {
   "cell_type": "code",
   "execution_count": 3,
   "metadata": {},
   "outputs": [
    {
     "name": "stdout",
     "output_type": "stream",
     "text": [
      "Traceback (most recent call last):\r\n",
      "  File \"test.py\", line 1, in <module>\r\n",
      "    from actor.py import *\r\n",
      "  File \"/Users/patrisaru/Desktop/TFM-FINAL-1/DRL-v1/actor.py\", line 10, in <module>\r\n",
      "    import  tensorflow as tf\r\n",
      "  File \"/Users/patrisaru/opt/anaconda3/lib/python3.7/site-packages/tensorflow/__init__.py\", line 41, in <module>\r\n",
      "    from tensorflow.python.tools import module_util as _module_util\r\n",
      "  File \"/Users/patrisaru/opt/anaconda3/lib/python3.7/site-packages/tensorflow/python/__init__.py\", line 41, in <module>\r\n",
      "    from tensorflow.python.eager import context\r\n",
      "  File \"/Users/patrisaru/opt/anaconda3/lib/python3.7/site-packages/tensorflow/python/eager/context.py\", line 35, in <module>\r\n",
      "    from tensorflow.python import pywrap_tfe\r\n",
      "  File \"/Users/patrisaru/opt/anaconda3/lib/python3.7/site-packages/tensorflow/python/pywrap_tfe.py\", line 29, in <module>\r\n",
      "    from tensorflow.python._pywrap_tfe import *\r\n",
      "ImportError: dlopen(/Users/patrisaru/opt/anaconda3/lib/python3.7/site-packages/tensorflow/python/_pywrap_tfe.so, 2): Library not loaded: @rpath/_pywrap_tensorflow_internal.so\r\n",
      "  Referenced from: /Users/patrisaru/opt/anaconda3/lib/python3.7/site-packages/tensorflow/python/_pywrap_tfe.so\r\n",
      "  Reason: image not found\r\n"
     ]
    }
   ],
   "source": [
    "!python3 test.py --max_step=80 --img=lisa.png --divide=4"
   ]
  },
  {
   "cell_type": "code",
   "execution_count": null,
   "metadata": {},
   "outputs": [],
   "source": [
    "\n"
   ]
  },
  {
   "cell_type": "code",
   "execution_count": null,
   "metadata": {},
   "outputs": [],
   "source": []
  }
 ],
 "metadata": {
  "kernelspec": {
   "display_name": "Python 3",
   "language": "python",
   "name": "python3"
  },
  "language_info": {
   "codemirror_mode": {
    "name": "ipython",
    "version": 3
   },
   "file_extension": ".py",
   "mimetype": "text/x-python",
   "name": "python",
   "nbconvert_exporter": "python",
   "pygments_lexer": "ipython3",
   "version": "3.7.4"
  }
 },
 "nbformat": 4,
 "nbformat_minor": 2
}
