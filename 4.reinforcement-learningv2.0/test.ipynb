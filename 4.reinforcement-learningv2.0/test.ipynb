{
 "cells": [
  {
   "cell_type": "code",
   "execution_count": 59,
   "metadata": {},
   "outputs": [],
   "source": [
    "import os\n",
    "# Esto es solo necesario en el caso de tener varías GPUs en el equipo (comentar en Colab)\n",
    "os.environ[\"CUDA_VISIBLE_DEVICES\"]=\"1\" \n",
    "os.environ['TF_FORCE_GPU_ALLOW_GROWTH'] = 'true'"
   ]
  },
  {
   "cell_type": "code",
   "execution_count": 63,
   "metadata": {},
   "outputs": [
    {
     "name": "stdout",
     "output_type": "stream",
     "text": [
      "2022-09-19 11:50:05.754376: I tensorflow/stream_executor/platform/default/dso_loader.cc:48] Successfully opened dynamic library libcudart.so.10.1\n",
      "2022-09-19 11:50:06.564538: I tensorflow/stream_executor/platform/default/dso_loader.cc:48] Successfully opened dynamic library libcuda.so.1\n",
      "2022-09-19 11:50:06.586009: I tensorflow/stream_executor/cuda/cuda_gpu_executor.cc:982] successful NUMA node read from SysFS had negative value (-1), but there must be at least one NUMA node, so returning NUMA node zero\n",
      "2022-09-19 11:50:06.586707: I tensorflow/core/common_runtime/gpu/gpu_device.cc:1716] Found device 0 with properties: \n",
      "pciBusID: 0000:02:00.0 name: GeForce GTX 1080 Ti computeCapability: 6.1\n",
      "coreClock: 1.582GHz coreCount: 28 deviceMemorySize: 10.92GiB deviceMemoryBandwidth: 451.17GiB/s\n",
      "2022-09-19 11:50:06.586739: I tensorflow/stream_executor/platform/default/dso_loader.cc:48] Successfully opened dynamic library libcudart.so.10.1\n",
      "2022-09-19 11:50:06.587898: I tensorflow/stream_executor/platform/default/dso_loader.cc:48] Successfully opened dynamic library libcublas.so.10\n",
      "2022-09-19 11:50:06.589050: I tensorflow/stream_executor/platform/default/dso_loader.cc:48] Successfully opened dynamic library libcufft.so.10\n",
      "2022-09-19 11:50:06.589281: I tensorflow/stream_executor/platform/default/dso_loader.cc:48] Successfully opened dynamic library libcurand.so.10\n",
      "2022-09-19 11:50:06.590510: I tensorflow/stream_executor/platform/default/dso_loader.cc:48] Successfully opened dynamic library libcusolver.so.10\n",
      "2022-09-19 11:50:06.591244: I tensorflow/stream_executor/platform/default/dso_loader.cc:48] Successfully opened dynamic library libcusparse.so.10\n",
      "2022-09-19 11:50:06.593857: I tensorflow/stream_executor/platform/default/dso_loader.cc:48] Successfully opened dynamic library libcudnn.so.7\n",
      "2022-09-19 11:50:06.593975: I tensorflow/stream_executor/cuda/cuda_gpu_executor.cc:982] successful NUMA node read from SysFS had negative value (-1), but there must be at least one NUMA node, so returning NUMA node zero\n",
      "2022-09-19 11:50:06.594711: I tensorflow/stream_executor/cuda/cuda_gpu_executor.cc:982] successful NUMA node read from SysFS had negative value (-1), but there must be at least one NUMA node, so returning NUMA node zero\n",
      "2022-09-19 11:50:06.595293: I tensorflow/core/common_runtime/gpu/gpu_device.cc:1858] Adding visible gpu devices: 0\n",
      "2022-09-19 11:50:06.595520: I tensorflow/core/platform/cpu_feature_guard.cc:142] This TensorFlow binary is optimized with oneAPI Deep Neural Network Library (oneDNN)to use the following CPU instructions in performance-critical operations:  AVX2 FMA\n",
      "To enable them in other operations, rebuild TensorFlow with the appropriate compiler flags.\n",
      "2022-09-19 11:50:06.600311: I tensorflow/core/platform/profile_utils/cpu_utils.cc:104] CPU Frequency: 3399905000 Hz\n",
      "2022-09-19 11:50:06.600476: I tensorflow/compiler/xla/service/service.cc:168] XLA service 0x42a6e00 initialized for platform Host (this does not guarantee that XLA will be used). Devices:\n",
      "2022-09-19 11:50:06.600505: I tensorflow/compiler/xla/service/service.cc:176]   StreamExecutor device (0): Host, Default Version\n",
      "2022-09-19 11:50:06.672382: I tensorflow/stream_executor/cuda/cuda_gpu_executor.cc:982] successful NUMA node read from SysFS had negative value (-1), but there must be at least one NUMA node, so returning NUMA node zero\n",
      "2022-09-19 11:50:06.673787: I tensorflow/compiler/xla/service/service.cc:168] XLA service 0x432b130 initialized for platform CUDA (this does not guarantee that XLA will be used). Devices:\n",
      "2022-09-19 11:50:06.673804: I tensorflow/compiler/xla/service/service.cc:176]   StreamExecutor device (0): GeForce GTX 1080 Ti, Compute Capability 6.1\n",
      "2022-09-19 11:50:06.673967: I tensorflow/stream_executor/cuda/cuda_gpu_executor.cc:982] successful NUMA node read from SysFS had negative value (-1), but there must be at least one NUMA node, so returning NUMA node zero\n",
      "2022-09-19 11:50:06.674417: I tensorflow/core/common_runtime/gpu/gpu_device.cc:1716] Found device 0 with properties: \n",
      "pciBusID: 0000:02:00.0 name: GeForce GTX 1080 Ti computeCapability: 6.1\n",
      "coreClock: 1.582GHz coreCount: 28 deviceMemorySize: 10.92GiB deviceMemoryBandwidth: 451.17GiB/s\n",
      "2022-09-19 11:50:06.674437: I tensorflow/stream_executor/platform/default/dso_loader.cc:48] Successfully opened dynamic library libcudart.so.10.1\n",
      "2022-09-19 11:50:06.674455: I tensorflow/stream_executor/platform/default/dso_loader.cc:48] Successfully opened dynamic library libcublas.so.10\n",
      "2022-09-19 11:50:06.674480: I tensorflow/stream_executor/platform/default/dso_loader.cc:48] Successfully opened dynamic library libcufft.so.10\n",
      "2022-09-19 11:50:06.674490: I tensorflow/stream_executor/platform/default/dso_loader.cc:48] Successfully opened dynamic library libcurand.so.10\n",
      "2022-09-19 11:50:06.674511: I tensorflow/stream_executor/platform/default/dso_loader.cc:48] Successfully opened dynamic library libcusolver.so.10\n",
      "2022-09-19 11:50:06.674534: I tensorflow/stream_executor/platform/default/dso_loader.cc:48] Successfully opened dynamic library libcusparse.so.10\n",
      "2022-09-19 11:50:06.674544: I tensorflow/stream_executor/platform/default/dso_loader.cc:48] Successfully opened dynamic library libcudnn.so.7\n",
      "2022-09-19 11:50:06.674611: I tensorflow/stream_executor/cuda/cuda_gpu_executor.cc:982] successful NUMA node read from SysFS had negative value (-1), but there must be at least one NUMA node, so returning NUMA node zero\n",
      "2022-09-19 11:50:06.675079: I tensorflow/stream_executor/cuda/cuda_gpu_executor.cc:982] successful NUMA node read from SysFS had negative value (-1), but there must be at least one NUMA node, so returning NUMA node zero\n",
      "2022-09-19 11:50:06.675504: I tensorflow/core/common_runtime/gpu/gpu_device.cc:1858] Adding visible gpu devices: 0\n",
      "2022-09-19 11:50:06.675521: I tensorflow/stream_executor/platform/default/dso_loader.cc:48] Successfully opened dynamic library libcudart.so.10.1\n",
      "2022-09-19 11:50:07.022937: I tensorflow/core/common_runtime/gpu/gpu_device.cc:1257] Device interconnect StreamExecutor with strength 1 edge matrix:\n",
      "2022-09-19 11:50:07.022968: I tensorflow/core/common_runtime/gpu/gpu_device.cc:1263]      0 \n",
      "2022-09-19 11:50:07.022988: I tensorflow/core/common_runtime/gpu/gpu_device.cc:1276] 0:   N \n",
      "2022-09-19 11:50:07.023138: I tensorflow/stream_executor/cuda/cuda_gpu_executor.cc:982] successful NUMA node read from SysFS had negative value (-1), but there must be at least one NUMA node, so returning NUMA node zero\n",
      "2022-09-19 11:50:07.023619: I tensorflow/stream_executor/cuda/cuda_gpu_executor.cc:982] successful NUMA node read from SysFS had negative value (-1), but there must be at least one NUMA node, so returning NUMA node zero\n",
      "2022-09-19 11:50:07.024052: W tensorflow/core/common_runtime/gpu/gpu_bfc_allocator.cc:39] Overriding allow_growth setting because the TF_FORCE_GPU_ALLOW_GROWTH environment variable is set. Original config value was 0.\n",
      "2022-09-19 11:50:07.024088: I tensorflow/core/common_runtime/gpu/gpu_device.cc:1402] Created TensorFlow device (/job:localhost/replica:0/task:0/device:GPU:0 with 10144 MB memory) -> physical GPU (device: 0, name: GeForce GTX 1080 Ti, pci bus id: 0000:02:00.0, compute capability: 6.1)\n",
      "mkdir: no se puede crear el directorio «output»: El archivo ya existe\n",
      "WARNING:tensorflow:Layer res_net is casting an input tensor from dtype float64 to the layer's dtype of float32, which is new behavior in TensorFlow 2.  The layer has dtype float32 because its dtype defaults to floatx.\n",
      "\n",
      "If you intended to run this layer in float32, you can safely ignore this warning. If in doubt, this warning is likely only an issue if you are porting a TensorFlow 1.X model to TensorFlow 2.\n",
      "\n",
      "To change all layers to have dtype float64 by default, call `tf.keras.backend.set_floatx('float64')`. To change just this layer, pass dtype='float64' to the layer constructor. If you are the author of this layer, you can disable autocasting by passing autocast=False to the base Layer constructor.\n",
      "\n",
      "2022-09-19 11:50:07.729640: I tensorflow/stream_executor/platform/default/dso_loader.cc:48] Successfully opened dynamic library libcudnn.so.7\n",
      "2022-09-19 11:50:08.271339: I tensorflow/stream_executor/platform/default/dso_loader.cc:48] Successfully opened dynamic library libcublas.so.10\n"
     ]
    },
    {
     "name": "stdout",
     "output_type": "stream",
     "text": [
      "canvas step 0, L2Loss = 0.07195007801055908\n",
      "canvas step 1, L2Loss = 0.05755705013871193\n",
      "canvas step 2, L2Loss = 0.04730501398444176\n",
      "canvas step 3, L2Loss = 0.04042482003569603\n",
      "canvas step 4, L2Loss = 0.03810548037290573\n",
      "canvas step 5, L2Loss = 0.03590625897049904\n",
      "canvas step 6, L2Loss = 0.03437446802854538\n",
      "canvas step 7, L2Loss = 0.03260570392012596\n",
      "canvas step 8, L2Loss = 0.032094139605760574\n",
      "canvas step 9, L2Loss = 0.032134443521499634\n",
      "canvas step 10, L2Loss = 0.03223498910665512\n",
      "canvas step 11, L2Loss = 0.031133761629462242\n",
      "canvas step 12, L2Loss = 0.031118029728531837\n",
      "canvas step 13, L2Loss = 0.03017074428498745\n",
      "canvas step 14, L2Loss = 0.029889173805713654\n",
      "divided canvas step 0, L2Loss = 0.015403772704303265\n",
      "divided canvas step 1, L2Loss = 0.011063851416110992\n",
      "divided canvas step 2, L2Loss = 0.009094594977796078\n",
      "divided canvas step 3, L2Loss = 0.008115879260003567\n",
      "divided canvas step 4, L2Loss = 0.007590139284729958\n",
      "divided canvas step 5, L2Loss = 0.007316295523196459\n",
      "divided canvas step 6, L2Loss = 0.0072169434279203415\n",
      "divided canvas step 7, L2Loss = 0.0070630707778036594\n",
      "divided canvas step 8, L2Loss = 0.00698034418746829\n",
      "divided canvas step 9, L2Loss = 0.006835494190454483\n",
      "divided canvas step 10, L2Loss = 0.006729533430188894\n",
      "divided canvas step 11, L2Loss = 0.006696782540529966\n",
      "divided canvas step 12, L2Loss = 0.006656108424067497\n",
      "divided canvas step 13, L2Loss = 0.006608655210584402\n",
      "divided canvas step 14, L2Loss = 0.0066013881005346775\n"
     ]
    }
   ],
   "source": [
    "!python3 test.py --max_step=30 --img=/home/patsalrub/Stroke_generator_2/Stroke_Generator/lisa.png --divide=8"
   ]
  },
  {
   "cell_type": "code",
   "execution_count": null,
   "metadata": {},
   "outputs": [],
   "source": []
  }
 ],
 "metadata": {
  "kernelspec": {
   "display_name": "Python 3",
   "language": "python",
   "name": "python3"
  },
  "language_info": {
   "codemirror_mode": {
    "name": "ipython",
    "version": 3
   },
   "file_extension": ".py",
   "mimetype": "text/x-python",
   "name": "python",
   "nbconvert_exporter": "python",
   "pygments_lexer": "ipython3",
   "version": "3.7.4"
  }
 },
 "nbformat": 4,
 "nbformat_minor": 2
}
